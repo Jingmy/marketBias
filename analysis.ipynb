{
 "cells": [
  {
   "cell_type": "code",
   "execution_count": 51,
   "metadata": {},
   "outputs": [],
   "source": [
    "import numpy as np\n",
    "import pandas as pd\n",
    "import matplotlib.pyplot as plt\n",
    "from matplotlib import rc\n",
    "from scipy.stats import chi2_contingency, ttest_ind, ttest_rel, f_oneway\n",
    "%matplotlib inline\n",
    "import statsmodels.api as sm\n",
    "from statsmodels.formula.api import ols\n",
    "import seaborn as sns\n",
    "rc('pdf', fonttype=42)"
   ]
  },
  {
   "cell_type": "code",
   "execution_count": 52,
   "metadata": {},
   "outputs": [],
   "source": [
    "def contingency_table(df_review, columns=[]):\n",
    "    tab = pd.crosstab(df_review['model_attr'], df_review['user_attr'], margins=True)\n",
    "    if len(columns)>0:\n",
    "        tab = tab[columns]\n",
    "    # print(tab.to_latex())\n",
    "    print('contingency table')\n",
    "    display(tab)\n",
    "    tab = df_review.groupby(['model_attr', 'user_attr'])['rating'].size().unstack()\n",
    "    if len(columns)>1:\n",
    "        tab = tab[columns[:-1]]\n",
    "    g, p, dof, expctd = chi2_contingency(tab.values)\n",
    "    print('chi2', g.round(3), 'p-value', p.round(3))\n",
    "    print('')\n",
    "    print('real market size - expcted market size')\n",
    "    display((tab-expctd).round(2))\n",
    "    "
   ]
  },
  {
   "cell_type": "code",
   "execution_count": 53,
   "metadata": {},
   "outputs": [],
   "source": [
    "def chi2_test_by_year(df_review):\n",
    "    chi, p, _, expctd = chi2_contingency(df_review.groupby(['model_attr', 'user_attr'])['rating'].size().unstack().values)\n",
    "    chi1, p1, _, expctd1 = chi2_contingency(df_review.loc[\n",
    "        df_review['timestamp'].apply(lambda x: x.year<=2014)].groupby([\n",
    "        'model_attr', 'user_attr'])['rating'].size().unstack().values)\n",
    "    chi2, p2, _, expctd2 = chi2_contingency(df_review.loc[\n",
    "        df_review['timestamp'].apply(lambda x: x.year==2015)].groupby([\n",
    "        'model_attr', 'user_attr'])['rating'].size().unstack().values)\n",
    "    chi3, p3, _, expctd3 = chi2_contingency(df_review.loc[\n",
    "        df_review['timestamp'].apply(lambda x: x.year==2016)].groupby([\n",
    "        'model_attr', 'user_attr'])['rating'].size().unstack().values)\n",
    "    chi4, p4, _, expctd4 = chi2_contingency(df_review.loc[\n",
    "        df_review['timestamp'].apply(lambda x: x.year>=2017)].groupby([\n",
    "        'model_attr', 'user_attr'])['rating'].size().unstack().values)\n",
    "    df = pd.DataFrame(np.array([[chi, p, expctd.sum()],\n",
    "                                [chi1, p1, expctd1.sum()],\n",
    "                                [chi2, p2, expctd2.sum()],\n",
    "                                [chi3, p3, expctd3.sum()],\n",
    "                                [chi4, p4, expctd4.sum()],]), \n",
    "                      columns=['chi2', 'p-value', 'sum'],\n",
    "                      index=['all', '<=2014', '2015', '2016', '>=2017'])\n",
    "    #print(df.round(3).to_latex())\n",
    "    display(df.round(3))"
   ]
  },
  {
   "cell_type": "code",
   "execution_count": 54,
   "metadata": {},
   "outputs": [],
   "source": [
    "def two_way_anova(df_review, metric):\n",
    "    test3 = sm.stats.anova_lm(ols(metric+' ~ model_attr*user_attr', data=df_review).fit()).values[:3,-2:]\n",
    "    df = pd.DataFrame(test3, columns=['F-stat', 'p-value'], index=['product', 'user', 'product:user'])\n",
    "    #print(df.round(3).to_latex())\n",
    "    display(df.round(3))\n",
    "    return df"
   ]
  },
  {
   "cell_type": "code",
   "execution_count": null,
   "metadata": {},
   "outputs": [],
   "source": []
  },
  {
   "cell_type": "code",
   "execution_count": 55,
   "metadata": {},
   "outputs": [],
   "source": [
    "def plot_avg_by_segment(df_review, metric, figsize, index=[], dataset='', dump=True):\n",
    "    fig = plt.figure(figsize=figsize)\n",
    "    group_rating = df_review.groupby(['user_attr', 'model_attr'])[metric].mean().unstack()\n",
    "    group_std = 1.96*df_review.groupby(['user_attr', 'model_attr'])[metric].sem().unstack()\n",
    "    if len(index)>0:\n",
    "        group_rating = group_rating.loc[index]\n",
    "    group_rating.index = group_rating.index.rename('user identity')\n",
    "    group_rating.columns = group_rating.columns.rename('product image')\n",
    "    text = []\n",
    "    for ri in range(group_rating.shape[0]):\n",
    "        row = []\n",
    "        for ci in range(group_rating.shape[1]):\n",
    "            row.append(str(group_rating.values[ri, ci].round(2))+'\\n('+r'$\\pm$'+str(group_std.values[ri, ci].round(2))+')')\n",
    "        text.append(row)\n",
    "    text = np.array(text)\n",
    "    \n",
    "    sns.heatmap(group_rating, annot=text, fmt='s', cmap=\"YlGnBu\", annot_kws={\"size\": 13},\n",
    "                cbar=False)\n",
    "    if dump:\n",
    "        fig.savefig('./plot/'+dataset+'_'+metric+'_heatmap.pdf', bbox_inches='tight')"
   ]
  },
  {
   "cell_type": "code",
   "execution_count": 56,
   "metadata": {},
   "outputs": [],
   "source": [
    "def get_stats(df_review):\n",
    "    stats = []\n",
    "    ts = df_review['timestamp'].describe()\n",
    "    first, last = ts['first'], ts['last']\n",
    "    n_review, n_item, n_user = df_review.shape[0], df_review['item_id'].nunique(), df_review['user_id'].nunique()\n",
    "    item_group = df_review.groupby('model_attr')['item_id'].nunique()\n",
    "    _na = n_item - item_group.sum()\n",
    "    item_group = item_group.to_dict()\n",
    "    item_group['N/A'] = _na\n",
    "    user_group = df_review.groupby('user_attr')['user_id'].nunique()\n",
    "    _na = n_user - user_group.sum()\n",
    "    user_group = user_group.to_dict()\n",
    "    user_group['N/A'] = _na\n",
    "    df_stats = pd.DataFrame([n_review, n_item, n_user, ts['first'], ts['last'], item_group, user_group], \n",
    "                            index=['#review', '#item', '#user', 'first', 'last', 'item_group', 'user_group'])\n",
    "    return df_stats"
   ]
  },
  {
   "cell_type": "markdown",
   "metadata": {},
   "source": [
    "# ModCloth"
   ]
  },
  {
   "cell_type": "code",
   "execution_count": 57,
   "metadata": {},
   "outputs": [
    {
     "name": "stderr",
     "output_type": "stream",
     "text": [
      "/home/mengting/anaconda3/lib/python3.7/site-packages/pandas/core/indexing.py:190: SettingWithCopyWarning: \n",
      "A value is trying to be set on a copy of a slice from a DataFrame\n",
      "\n",
      "See the caveats in the documentation: http://pandas.pydata.org/pandas-docs/stable/indexing.html#indexing-view-versus-copy\n",
      "  self._setitem_with_indexer(indexer, value)\n"
     ]
    }
   ],
   "source": [
    "dataset = 'modcloth'\n",
    "\n",
    "df_review = pd.read_csv('./data/df_'+dataset+'.csv')\n",
    "df_review['timestamp'] = pd.to_datetime(df_review['timestamp'])\n",
    "df_review['fit_score'] = 0.0\n",
    "df_review['fit_score'].loc[df_review['fit'] == 'Just right'] = 1.0\n",
    "df_review['fit_score'].loc[df_review['fit'].isna()] = None\n",
    "df_review['timestamp'] = pd.to_datetime(df_review['timestamp'])\n",
    "df_stats1 = get_stats(df_review)\n",
    "df_stats1.columns = ['modcloth']"
   ]
  },
  {
   "cell_type": "markdown",
   "metadata": {},
   "source": [
    "## Product Selection vs. Marketing Bias (ModCloth)\n",
    "### Chi2 test of contingency table"
   ]
  },
  {
   "cell_type": "code",
   "execution_count": 30,
   "metadata": {},
   "outputs": [
    {
     "name": "stdout",
     "output_type": "stream",
     "text": [
      "contingency table\n"
     ]
    },
    {
     "data": {
      "text/html": [
       "<div>\n",
       "<style scoped>\n",
       "    .dataframe tbody tr th:only-of-type {\n",
       "        vertical-align: middle;\n",
       "    }\n",
       "\n",
       "    .dataframe tbody tr th {\n",
       "        vertical-align: top;\n",
       "    }\n",
       "\n",
       "    .dataframe thead th {\n",
       "        text-align: right;\n",
       "    }\n",
       "</style>\n",
       "<table border=\"1\" class=\"dataframe\">\n",
       "  <thead>\n",
       "    <tr style=\"text-align: right;\">\n",
       "      <th>user_attr</th>\n",
       "      <th>Small</th>\n",
       "      <th>Large</th>\n",
       "      <th>All</th>\n",
       "    </tr>\n",
       "    <tr>\n",
       "      <th>model_attr</th>\n",
       "      <th></th>\n",
       "      <th></th>\n",
       "      <th></th>\n",
       "    </tr>\n",
       "  </thead>\n",
       "  <tbody>\n",
       "    <tr>\n",
       "      <th>Small</th>\n",
       "      <td>31800</td>\n",
       "      <td>7038</td>\n",
       "      <td>38838</td>\n",
       "    </tr>\n",
       "    <tr>\n",
       "      <th>Small&amp;Large</th>\n",
       "      <td>41361</td>\n",
       "      <td>11327</td>\n",
       "      <td>52688</td>\n",
       "    </tr>\n",
       "    <tr>\n",
       "      <th>All</th>\n",
       "      <td>73161</td>\n",
       "      <td>18365</td>\n",
       "      <td>91526</td>\n",
       "    </tr>\n",
       "  </tbody>\n",
       "</table>\n",
       "</div>"
      ],
      "text/plain": [
       "user_attr    Small  Large    All\n",
       "model_attr                      \n",
       "Small        31800   7038  38838\n",
       "Small&Large  41361  11327  52688\n",
       "All          73161  18365  91526"
      ]
     },
     "metadata": {},
     "output_type": "display_data"
    },
    {
     "name": "stdout",
     "output_type": "stream",
     "text": [
      "chi2 158.739 p-value 0.0\n",
      "\n",
      "real market size - expcted market size\n"
     ]
    },
    {
     "data": {
      "text/html": [
       "<div>\n",
       "<style scoped>\n",
       "    .dataframe tbody tr th:only-of-type {\n",
       "        vertical-align: middle;\n",
       "    }\n",
       "\n",
       "    .dataframe tbody tr th {\n",
       "        vertical-align: top;\n",
       "    }\n",
       "\n",
       "    .dataframe thead th {\n",
       "        text-align: right;\n",
       "    }\n",
       "</style>\n",
       "<table border=\"1\" class=\"dataframe\">\n",
       "  <thead>\n",
       "    <tr style=\"text-align: right;\">\n",
       "      <th>user_attr</th>\n",
       "      <th>Small</th>\n",
       "      <th>Large</th>\n",
       "    </tr>\n",
       "    <tr>\n",
       "      <th>model_attr</th>\n",
       "      <th></th>\n",
       "      <th></th>\n",
       "    </tr>\n",
       "  </thead>\n",
       "  <tbody>\n",
       "    <tr>\n",
       "      <th>Small</th>\n",
       "      <td>754.98</td>\n",
       "      <td>-754.98</td>\n",
       "    </tr>\n",
       "    <tr>\n",
       "      <th>Small&amp;Large</th>\n",
       "      <td>-754.98</td>\n",
       "      <td>754.98</td>\n",
       "    </tr>\n",
       "  </tbody>\n",
       "</table>\n",
       "</div>"
      ],
      "text/plain": [
       "user_attr     Small   Large\n",
       "model_attr                 \n",
       "Small        754.98 -754.98\n",
       "Small&Large -754.98  754.98"
      ]
     },
     "metadata": {},
     "output_type": "display_data"
    }
   ],
   "source": [
    "contingency_table(df_review, ['Small', 'Large', 'All'])"
   ]
  },
  {
   "cell_type": "code",
   "execution_count": 31,
   "metadata": {},
   "outputs": [
    {
     "data": {
      "text/html": [
       "<div>\n",
       "<style scoped>\n",
       "    .dataframe tbody tr th:only-of-type {\n",
       "        vertical-align: middle;\n",
       "    }\n",
       "\n",
       "    .dataframe tbody tr th {\n",
       "        vertical-align: top;\n",
       "    }\n",
       "\n",
       "    .dataframe thead th {\n",
       "        text-align: right;\n",
       "    }\n",
       "</style>\n",
       "<table border=\"1\" class=\"dataframe\">\n",
       "  <thead>\n",
       "    <tr style=\"text-align: right;\">\n",
       "      <th></th>\n",
       "      <th>chi2</th>\n",
       "      <th>p-value</th>\n",
       "      <th>sum</th>\n",
       "    </tr>\n",
       "  </thead>\n",
       "  <tbody>\n",
       "    <tr>\n",
       "      <th>all</th>\n",
       "      <td>158.739</td>\n",
       "      <td>0.000</td>\n",
       "      <td>91526.0</td>\n",
       "    </tr>\n",
       "    <tr>\n",
       "      <th>&lt;=2014</th>\n",
       "      <td>0.532</td>\n",
       "      <td>0.466</td>\n",
       "      <td>25383.0</td>\n",
       "    </tr>\n",
       "    <tr>\n",
       "      <th>2015</th>\n",
       "      <td>66.722</td>\n",
       "      <td>0.000</td>\n",
       "      <td>20241.0</td>\n",
       "    </tr>\n",
       "    <tr>\n",
       "      <th>2016</th>\n",
       "      <td>70.816</td>\n",
       "      <td>0.000</td>\n",
       "      <td>21239.0</td>\n",
       "    </tr>\n",
       "    <tr>\n",
       "      <th>&gt;=2017</th>\n",
       "      <td>29.046</td>\n",
       "      <td>0.000</td>\n",
       "      <td>24663.0</td>\n",
       "    </tr>\n",
       "  </tbody>\n",
       "</table>\n",
       "</div>"
      ],
      "text/plain": [
       "           chi2  p-value      sum\n",
       "all     158.739    0.000  91526.0\n",
       "<=2014    0.532    0.466  25383.0\n",
       "2015     66.722    0.000  20241.0\n",
       "2016     70.816    0.000  21239.0\n",
       ">=2017   29.046    0.000  24663.0"
      ]
     },
     "metadata": {},
     "output_type": "display_data"
    }
   ],
   "source": [
    "chi2_test_by_year(df_review)"
   ]
  },
  {
   "cell_type": "markdown",
   "metadata": {},
   "source": [
    "## Consumer Satisfaction vs. Marketing Bias (ModCloth)\n",
    "### 2-way ANOVA on rating score"
   ]
  },
  {
   "cell_type": "code",
   "execution_count": 58,
   "metadata": {
    "scrolled": false
   },
   "outputs": [
    {
     "data": {
      "text/html": [
       "<div>\n",
       "<style scoped>\n",
       "    .dataframe tbody tr th:only-of-type {\n",
       "        vertical-align: middle;\n",
       "    }\n",
       "\n",
       "    .dataframe tbody tr th {\n",
       "        vertical-align: top;\n",
       "    }\n",
       "\n",
       "    .dataframe thead th {\n",
       "        text-align: right;\n",
       "    }\n",
       "</style>\n",
       "<table border=\"1\" class=\"dataframe\">\n",
       "  <thead>\n",
       "    <tr style=\"text-align: right;\">\n",
       "      <th></th>\n",
       "      <th>F-stat</th>\n",
       "      <th>p-value</th>\n",
       "    </tr>\n",
       "  </thead>\n",
       "  <tbody>\n",
       "    <tr>\n",
       "      <th>product</th>\n",
       "      <td>171.914</td>\n",
       "      <td>0.0</td>\n",
       "    </tr>\n",
       "    <tr>\n",
       "      <th>user</th>\n",
       "      <td>46.312</td>\n",
       "      <td>0.0</td>\n",
       "    </tr>\n",
       "    <tr>\n",
       "      <th>product:user</th>\n",
       "      <td>30.685</td>\n",
       "      <td>0.0</td>\n",
       "    </tr>\n",
       "  </tbody>\n",
       "</table>\n",
       "</div>"
      ],
      "text/plain": [
       "               F-stat  p-value\n",
       "product       171.914      0.0\n",
       "user           46.312      0.0\n",
       "product:user   30.685      0.0"
      ]
     },
     "metadata": {},
     "output_type": "display_data"
    },
    {
     "data": {
      "image/png": "[encoded data removed]",
      "text/plain": [
       "<Figure size 158.4x144 with 1 Axes>"
      ]
     },
     "metadata": {
      "needs_background": "light"
     },
     "output_type": "display_data"
    }
   ],
   "source": [
    "_ = two_way_anova(df_review, 'rating')\n",
    "plot_avg_by_segment(df_review, 'rating', (2.2,2), ['Small', 'Large'], dataset, dump=False)"
   ]
  },
  {
   "cell_type": "markdown",
   "metadata": {},
   "source": [
    "### 2-way ANOVA on clothing fit feedback"
   ]
  },
  {
   "cell_type": "code",
   "execution_count": 38,
   "metadata": {},
   "outputs": [
    {
     "data": {
      "text/html": [
       "<div>\n",
       "<style scoped>\n",
       "    .dataframe tbody tr th:only-of-type {\n",
       "        vertical-align: middle;\n",
       "    }\n",
       "\n",
       "    .dataframe tbody tr th {\n",
       "        vertical-align: top;\n",
       "    }\n",
       "\n",
       "    .dataframe thead th {\n",
       "        text-align: right;\n",
       "    }\n",
       "</style>\n",
       "<table border=\"1\" class=\"dataframe\">\n",
       "  <thead>\n",
       "    <tr style=\"text-align: right;\">\n",
       "      <th></th>\n",
       "      <th>F-stat</th>\n",
       "      <th>p-value</th>\n",
       "    </tr>\n",
       "  </thead>\n",
       "  <tbody>\n",
       "    <tr>\n",
       "      <th>product</th>\n",
       "      <td>293.111</td>\n",
       "      <td>0.000</td>\n",
       "    </tr>\n",
       "    <tr>\n",
       "      <th>user</th>\n",
       "      <td>402.441</td>\n",
       "      <td>0.000</td>\n",
       "    </tr>\n",
       "    <tr>\n",
       "      <th>product:user</th>\n",
       "      <td>0.000</td>\n",
       "      <td>0.997</td>\n",
       "    </tr>\n",
       "  </tbody>\n",
       "</table>\n",
       "</div>"
      ],
      "text/plain": [
       "               F-stat  p-value\n",
       "product       293.111    0.000\n",
       "user          402.441    0.000\n",
       "product:user    0.000    0.997"
      ]
     },
     "metadata": {},
     "output_type": "display_data"
    },
    {
     "data": {
      "image/png": "[encoded data removed]",
      "text/plain": [
       "<Figure size 158.4x144 with 1 Axes>"
      ]
     },
     "metadata": {
      "needs_background": "light"
     },
     "output_type": "display_data"
    }
   ],
   "source": [
    "_ = two_way_anova(df_review, 'fit_score')\n",
    "plot_avg_by_segment(df_review, 'fit_score', (2.2,2), ['Small', 'Large'], dataset, dump=False)"
   ]
  },
  {
   "cell_type": "markdown",
   "metadata": {},
   "source": [
    "# Amazon Electronics"
   ]
  },
  {
   "cell_type": "code",
   "execution_count": 42,
   "metadata": {
    "scrolled": false
   },
   "outputs": [],
   "source": [
    "dataset = 'electronics'\n",
    "df_review = pd.read_csv('./data/df_'+dataset+'.csv')\n",
    "df_review['timestamp'] = pd.to_datetime(df_review['timestamp'])"
   ]
  },
  {
   "cell_type": "markdown",
   "metadata": {},
   "source": [
    "## Product Selection vs. Marketing Bias (Electronics)\n",
    "### Chi2 test of contingency table"
   ]
  },
  {
   "cell_type": "code",
   "execution_count": 47,
   "metadata": {},
   "outputs": [
    {
     "name": "stdout",
     "output_type": "stream",
     "text": [
      "contingency table\n"
     ]
    },
    {
     "data": {
      "text/html": [
       "<div>\n",
       "<style scoped>\n",
       "    .dataframe tbody tr th:only-of-type {\n",
       "        vertical-align: middle;\n",
       "    }\n",
       "\n",
       "    .dataframe tbody tr th {\n",
       "        vertical-align: top;\n",
       "    }\n",
       "\n",
       "    .dataframe thead th {\n",
       "        text-align: right;\n",
       "    }\n",
       "</style>\n",
       "<table border=\"1\" class=\"dataframe\">\n",
       "  <thead>\n",
       "    <tr style=\"text-align: right;\">\n",
       "      <th>user_attr</th>\n",
       "      <th>Female</th>\n",
       "      <th>Male</th>\n",
       "      <th>All</th>\n",
       "    </tr>\n",
       "    <tr>\n",
       "      <th>model_attr</th>\n",
       "      <th></th>\n",
       "      <th></th>\n",
       "      <th></th>\n",
       "    </tr>\n",
       "  </thead>\n",
       "  <tbody>\n",
       "    <tr>\n",
       "      <th>Female</th>\n",
       "      <td>34259</td>\n",
       "      <td>31587</td>\n",
       "      <td>65846</td>\n",
       "    </tr>\n",
       "    <tr>\n",
       "      <th>Female&amp;Male</th>\n",
       "      <td>26478</td>\n",
       "      <td>24930</td>\n",
       "      <td>51408</td>\n",
       "    </tr>\n",
       "    <tr>\n",
       "      <th>Male</th>\n",
       "      <td>25963</td>\n",
       "      <td>30907</td>\n",
       "      <td>56870</td>\n",
       "    </tr>\n",
       "    <tr>\n",
       "      <th>All</th>\n",
       "      <td>86700</td>\n",
       "      <td>87424</td>\n",
       "      <td>174124</td>\n",
       "    </tr>\n",
       "  </tbody>\n",
       "</table>\n",
       "</div>"
      ],
      "text/plain": [
       "user_attr    Female   Male     All\n",
       "model_attr                        \n",
       "Female        34259  31587   65846\n",
       "Female&Male   26478  24930   51408\n",
       "Male          25963  30907   56870\n",
       "All           86700  87424  174124"
      ]
     },
     "metadata": {},
     "output_type": "display_data"
    },
    {
     "name": "stdout",
     "output_type": "stream",
     "text": [
      "chi2 581.849 p-value 0.0\n",
      "\n",
      "real market size - expcted market size\n"
     ]
    },
    {
     "data": {
      "text/html": [
       "<div>\n",
       "<style scoped>\n",
       "    .dataframe tbody tr th:only-of-type {\n",
       "        vertical-align: middle;\n",
       "    }\n",
       "\n",
       "    .dataframe tbody tr th {\n",
       "        vertical-align: top;\n",
       "    }\n",
       "\n",
       "    .dataframe thead th {\n",
       "        text-align: right;\n",
       "    }\n",
       "</style>\n",
       "<table border=\"1\" class=\"dataframe\">\n",
       "  <thead>\n",
       "    <tr style=\"text-align: right;\">\n",
       "      <th>user_attr</th>\n",
       "      <th>Female</th>\n",
       "      <th>Male</th>\n",
       "    </tr>\n",
       "    <tr>\n",
       "      <th>model_attr</th>\n",
       "      <th></th>\n",
       "      <th></th>\n",
       "    </tr>\n",
       "  </thead>\n",
       "  <tbody>\n",
       "    <tr>\n",
       "      <th>Female</th>\n",
       "      <td>1472.89</td>\n",
       "      <td>-1472.89</td>\n",
       "    </tr>\n",
       "    <tr>\n",
       "      <th>Female&amp;Male</th>\n",
       "      <td>880.88</td>\n",
       "      <td>-880.88</td>\n",
       "    </tr>\n",
       "    <tr>\n",
       "      <th>Male</th>\n",
       "      <td>-2353.77</td>\n",
       "      <td>2353.77</td>\n",
       "    </tr>\n",
       "  </tbody>\n",
       "</table>\n",
       "</div>"
      ],
      "text/plain": [
       "user_attr     Female     Male\n",
       "model_attr                   \n",
       "Female       1472.89 -1472.89\n",
       "Female&Male   880.88  -880.88\n",
       "Male        -2353.77  2353.77"
      ]
     },
     "metadata": {},
     "output_type": "display_data"
    }
   ],
   "source": [
    "contingency_table(df_review)"
   ]
  },
  {
   "cell_type": "markdown",
   "metadata": {},
   "source": [
    "## Consumer Satisfaction"
   ]
  },
  {
   "cell_type": "code",
   "execution_count": 50,
   "metadata": {},
   "outputs": [
    {
     "data": {
      "text/html": [
       "<div>\n",
       "<style scoped>\n",
       "    .dataframe tbody tr th:only-of-type {\n",
       "        vertical-align: middle;\n",
       "    }\n",
       "\n",
       "    .dataframe tbody tr th {\n",
       "        vertical-align: top;\n",
       "    }\n",
       "\n",
       "    .dataframe thead th {\n",
       "        text-align: right;\n",
       "    }\n",
       "</style>\n",
       "<table border=\"1\" class=\"dataframe\">\n",
       "  <thead>\n",
       "    <tr style=\"text-align: right;\">\n",
       "      <th></th>\n",
       "      <th>F-stat</th>\n",
       "      <th>p-value</th>\n",
       "    </tr>\n",
       "  </thead>\n",
       "  <tbody>\n",
       "    <tr>\n",
       "      <th>product</th>\n",
       "      <td>62.581</td>\n",
       "      <td>0.000</td>\n",
       "    </tr>\n",
       "    <tr>\n",
       "      <th>user</th>\n",
       "      <td>3.508</td>\n",
       "      <td>0.061</td>\n",
       "    </tr>\n",
       "    <tr>\n",
       "      <th>product:user</th>\n",
       "      <td>0.907</td>\n",
       "      <td>0.404</td>\n",
       "    </tr>\n",
       "  </tbody>\n",
       "</table>\n",
       "</div>"
      ],
      "text/plain": [
       "              F-stat  p-value\n",
       "product       62.581    0.000\n",
       "user           3.508    0.061\n",
       "product:user   0.907    0.404"
      ]
     },
     "metadata": {},
     "output_type": "display_data"
    },
    {
     "data": {
      "image/png": "[encoded data removed]",
      "text/plain": [
       "<Figure size 230.4x144 with 1 Axes>"
      ]
     },
     "metadata": {
      "needs_background": "light"
     },
     "output_type": "display_data"
    }
   ],
   "source": [
    "_ = two_way_anova(df_review, 'rating')\n",
    "plot_avg_by_segment(df_review, 'rating', (3.2,2), [], dataset, dump=False)"
   ]
  },
  {
   "cell_type": "code",
   "execution_count": null,
   "metadata": {},
   "outputs": [],
   "source": []
  },
  {
   "cell_type": "code",
   "execution_count": null,
   "metadata": {},
   "outputs": [],
   "source": []
  },
  {
   "cell_type": "code",
   "execution_count": null,
   "metadata": {},
   "outputs": [],
   "source": []
  },
  {
   "cell_type": "code",
   "execution_count": null,
   "metadata": {},
   "outputs": [],
   "source": []
  },
  {
   "cell_type": "code",
   "execution_count": null,
   "metadata": {},
   "outputs": [],
   "source": []
  },
  {
   "cell_type": "code",
   "execution_count": null,
   "metadata": {},
   "outputs": [],
   "source": []
  }
 ],
 "metadata": {
  "kernelspec": {
   "display_name": "Python 3",
   "language": "python",
   "name": "python3"
  },
  "language_info": {
   "codemirror_mode": {
    "name": "ipython",
    "version": 3
   },
   "file_extension": ".py",
   "mimetype": "text/x-python",
   "name": "python",
   "nbconvert_exporter": "python",
   "pygments_lexer": "ipython3",
   "version": "3.7.3"
  }
 },
 "nbformat": 4,
 "nbformat_minor": 2
}
